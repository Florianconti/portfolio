{
 "cells": [
  {
   "attachments": {},
   "cell_type": "markdown",
   "metadata": {},
   "source": [
    "# Import des librairies"
   ]
  },
  {
   "cell_type": "code",
   "execution_count": null,
   "metadata": {},
   "outputs": [],
   "source": [
    "from sklearn.ensemble import IsolationForest\n",
    "from sklearn.neighbors import LocalOutlierFactor\n",
    "import numpy as np\n",
    "import importlib\n",
    "\n",
    "spec = importlib.util.spec_from_file_location(\"fspliter\", \"..\\\\utils\\\\files_spliter.py\")\n",
    "fspliter = importlib.util.module_from_spec(spec)\n",
    "spec.loader.exec_module(fspliter)\n",
    "\n",
    "spec = importlib.util.spec_from_file_location(\"preprocessing\", \"..\\\\utils\\\\preprocessing.py\")\n",
    "preprocessing = importlib.util.module_from_spec(spec)\n",
    "spec.loader.exec_module(preprocessing)"
   ]
  },
  {
   "attachments": {},
   "cell_type": "markdown",
   "metadata": {},
   "source": [
    "# Définition de fonction utilitaire"
   ]
  },
  {
   "cell_type": "code",
   "execution_count": null,
   "metadata": {},
   "outputs": [],
   "source": [
    "def count_outliers(arr):\n",
    "    return np.count_nonzero(arr == -1)"
   ]
  },
  {
   "cell_type": "code",
   "execution_count": null,
   "metadata": {},
   "outputs": [],
   "source": [
    "def count_inliners(arr):\n",
    "    return np.count_nonzero(arr == 1)"
   ]
  },
  {
   "attachments": {},
   "cell_type": "markdown",
   "metadata": {},
   "source": [
    "# Lecture d'un fichier de données"
   ]
  },
  {
   "cell_type": "code",
   "execution_count": null,
   "metadata": {},
   "outputs": [],
   "source": [
    "data = fspliter.get_mice(0)\n",
    "data"
   ]
  },
  {
   "attachments": {},
   "cell_type": "markdown",
   "metadata": {},
   "source": [
    "# Détection des outliers pour les valeurs numériques"
   ]
  },
  {
   "attachments": {},
   "cell_type": "markdown",
   "metadata": {},
   "source": [
    "## Filtre les colonnes numériques"
   ]
  },
  {
   "cell_type": "code",
   "execution_count": null,
   "metadata": {},
   "outputs": [],
   "source": [
    "data = data.drop(['rawState', 'state', 'filename', 'temp'], axis=1)"
   ]
  },
  {
   "attachments": {},
   "cell_type": "markdown",
   "metadata": {},
   "source": [
    "## Tests de méthode de scikit learn"
   ]
  },
  {
   "cell_type": "code",
   "execution_count": null,
   "metadata": {},
   "outputs": [],
   "source": [
    "methods = [\"Isolation Forest\", \"Local outlier Factor\"]\n",
    "clfs = [IsolationForest(n_estimators=10), LocalOutlierFactor()]"
   ]
  },
  {
   "cell_type": "code",
   "execution_count": null,
   "metadata": {},
   "outputs": [],
   "source": [
    "for i in range(len(methods)):\n",
    "    clf = clfs[i]\n",
    "    method = methods[i]\n",
    "    outliers = clf.fit_predict(data)\n",
    "    print(\"Méthode \" + method + \":\")\n",
    "    print(\"- \" + str(count_outliers(outliers)) + \" ouliers trouvés\")\n",
    "    print(\"- \" + str(count_inliners(outliers)) + \" inliners trouvés\")\n",
    "    print()"
   ]
  },
  {
   "attachments": {},
   "cell_type": "markdown",
   "metadata": {},
   "source": [
    "## Test de la méthode IQR"
   ]
  },
  {
   "cell_type": "code",
   "execution_count": null,
   "metadata": {},
   "outputs": [],
   "source": [
    "print(\"Nombre d'outliers par colonnes:\")\n",
    "cols = ['EEGv', 'EMGv']\n",
    "bins = data.drop(cols, axis=1)\n",
    "mean_outliers_bins = 0\n",
    "clean_outlier = data\n",
    "\n",
    "threshold = 2\n",
    "\n",
    "for column in cols:\n",
    "    Q1 = data[column].quantile(0.25)\n",
    "    Q3 = data[column].quantile(0.75)\n",
    "    IQR = Q3 - Q1\n",
    "\n",
    "    outliers = data[(data[column] < Q1 - threshold * IQR) | (data[column] > Q3 + threshold * IQR)]\n",
    "    clean_outlier = clean_outlier[(clean_outlier[column] >= Q1 - threshold * IQR) & (clean_outlier[column] <= Q3 + threshold * IQR)]\n",
    "    print(column + \": \" + str(len(outliers)))\n",
    "\n",
    "for column in bins:\n",
    "    Q1 = data[column].quantile(0.25)\n",
    "    Q3 = data[column].quantile(0.75)\n",
    "    IQR = Q3 - Q1\n",
    "\n",
    "    outliers = data[(data[column] < Q1 - threshold * IQR) | (data[column] > Q3 + threshold * IQR)]\n",
    "    clean_outlier = clean_outlier[(clean_outlier[column] >= Q1 - threshold * IQR) & (clean_outlier[column] <= Q3 + threshold * IQR)]\n",
    "    mean_outliers_bins = mean_outliers_bins + len(outliers)/len(bins.columns)\n",
    "\n",
    "print(\"Nombre moyen d'outliers pour les colonnes bin: \" + str(round(mean_outliers_bins)))\n",
    "print(\"==================================\")\n",
    "print(\"Nombre de ligne enlevée par cette méthode: \" + str(len(data) - len(clean_outlier)))"
   ]
  },
  {
   "attachments": {},
   "cell_type": "markdown",
   "metadata": {},
   "source": [
    "# Détection des outliers pour les valeurs non numériques\n",
    "Il y a uniquement la colonne `state` qui contient des valeurs non numériques pertinantes. Cette colonne permet de classer l'état de sommeil de souris en trois classe `w`, `r` et `n` toutes autres classes sont considérées comme outlier.\n"
   ]
  },
  {
   "attachments": {},
   "cell_type": "markdown",
   "metadata": {},
   "source": [
    "# Conclusion\n",
    "- La méthode de détection des outliers avec `IQR` n'est pas efficace dans notre cas. Cette méthode enlève 86'000 lignes sur 86'400.\n",
    "- Les deux méthodes testées de scikit learn ont l'air plus intéressante. Notamment la méthode `Isolation Forest` qui est recommandée pour les times series."
   ]
  }
 ],
 "metadata": {
  "kernelspec": {
   "display_name": "base",
   "language": "python",
   "name": "python3"
  },
  "language_info": {
   "codemirror_mode": {
    "name": "ipython",
    "version": 3
   },
   "file_extension": ".py",
   "mimetype": "text/x-python",
   "name": "python",
   "nbconvert_exporter": "python",
   "pygments_lexer": "ipython3",
   "version": "3.8.5"
  },
  "orig_nbformat": 4
 },
 "nbformat": 4,
 "nbformat_minor": 2
}
