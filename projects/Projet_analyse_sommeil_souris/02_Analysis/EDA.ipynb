{
 "cells": [
  {
   "cell_type": "code",
   "execution_count": null,
   "metadata": {
    "collapsed": false
   },
   "outputs": [],
   "source": [
    "import os\n",
    "from itertools import groupby\n",
    "import pandas as pd\n",
    "import matplotlib.pyplot as plt\n",
    "import numpy as np\n",
    "import seaborn as sns\n",
    "from sklearn.manifold import TSNE\n",
    "from umap import UMAP\n",
    "from sklearn.decomposition import PCA\n",
    "from sklearn.preprocessing import StandardScaler"
   ]
  },
  {
   "cell_type": "code",
   "execution_count": null,
   "metadata": {
    "collapsed": false
   },
   "outputs": [],
   "source": [
    "import importlib\n",
    "spec = importlib.util.spec_from_file_location(\"fspliter\", \"..\\\\utils\\\\files_spliter.py\")\n",
    "fspliter = importlib.util.module_from_spec(spec)\n",
    "spec.loader.exec_module(fspliter)\n",
    "\n",
    "spec = importlib.util.spec_from_file_location(\"preprocessing\", \"..\\\\utils\\\\preprocessing.py\")\n",
    "preprocessing = importlib.util.module_from_spec(spec)\n",
    "spec.loader.exec_module(preprocessing)"
   ]
  },
  {
   "cell_type": "code",
   "execution_count": null,
   "metadata": {},
   "outputs": [],
   "source": [
    "df_bread = fspliter.get_bread(0)\n",
    "df_bread.shape"
   ]
  },
  {
   "cell_type": "code",
   "execution_count": null,
   "metadata": {},
   "outputs": [],
   "source": [
    "df_mice = fspliter.get_mice(0)\n",
    "df_mice.shape"
   ]
  },
  {
   "cell_type": "markdown",
   "metadata": {},
   "source": [
    "## Filter by day"
   ]
  },
  {
   "cell_type": "code",
   "execution_count": null,
   "metadata": {},
   "outputs": [],
   "source": [
    "df_day4 = fspliter.retrieve_day(df_bread[df_bread['filename'] == df_bread['filename'].unique()[0]], 3)\n",
    "df_day4.shape"
   ]
  },
  {
   "cell_type": "code",
   "execution_count": null,
   "metadata": {},
   "outputs": [],
   "source": [
    "df_day4 = fspliter.retrieve_day(df_mice, 3)\n",
    "df_day4.shape"
   ]
  },
  {
   "cell_type": "code",
   "execution_count": null,
   "metadata": {
    "collapsed": false
   },
   "outputs": [],
   "source": [
    "df_test = fspliter.remove_day_from_bread(df_bread, 1)"
   ]
  },
  {
   "cell_type": "code",
   "execution_count": null,
   "metadata": {
    "collapsed": false
   },
   "outputs": [],
   "source": [
    "df_test.shape"
   ]
  },
  {
   "cell_type": "markdown",
   "metadata": {
    "collapsed": false
   },
   "source": [
    "# Visualisation"
   ]
  },
  {
   "cell_type": "markdown",
   "source": [
    "## Distribution of sleep-wake states"
   ],
   "metadata": {
    "collapsed": false
   }
  },
  {
   "cell_type": "code",
   "execution_count": null,
   "metadata": {
    "collapsed": false
   },
   "outputs": [],
   "source": [
    "print(df_bread['temp'].describe())"
   ]
  },
  {
   "cell_type": "code",
   "execution_count": null,
   "metadata": {
    "collapsed": false
   },
   "outputs": [],
   "source": [
    "df_mice = preprocessing.clean_missing_values(df_mice)\n",
    "df_bread = preprocessing.clean_missing_values(df_bread)"
   ]
  },
  {
   "cell_type": "code",
   "execution_count": null,
   "metadata": {
    "collapsed": false
   },
   "outputs": [],
   "source": [
    "# plt.figure(figsize=(10, 6))\n",
    "# sns.countplot(data=df_mice, x='state', order=df_mice['state'].value_counts().index)\n",
    "# plt.title('Distribution of Sleep-Wake States')\n",
    "# plt.xlabel('State')\n",
    "# plt.ylabel('Count')\n",
    "# plt.show()\n",
    "stats = [\"w\", \"n\", \"r\"]\n",
    "\n",
    "state_colors = {\n",
    "    'w': '#113048',\n",
    "    'n': '#D94C0C',\n",
    "    'r': '#4D4B49',\n",
    "}\n",
    "\n",
    "\n",
    "import plotly.express as px\n",
    "\n",
    "fig = px.histogram(df_mice, x='state', text_auto=True, color=\"state\", color_discrete_map=state_colors).update_xaxes(categoryorder=\"array\", categoryarray=stats)\n",
    "fig.update_traces(textfont_size= 42, textposition='inside', textfont_color='#F0E2C8', insidetextanchor='middle')\n",
    "fig.show()\n"
   ]
  },
  {
   "cell_type": "markdown",
   "metadata": {
    "collapsed": false
   },
   "source": [
    "Premièrement, on remarque que les états wake et non-REM sont les plus fréquents. Si on aditionne les états non-REM et REM, on peut constater que la souris a passé un peu plus de temps éveillée qu'endormie sur ces 4 jours. Cependant, pour le jour 3, la souris a été forcée de rester éveillée donc nous allons alors refaire l'expérience uniquement le jour 3."
   ]
  },
  {
   "cell_type": "code",
   "execution_count": null,
   "metadata": {
    "collapsed": false
   },
   "outputs": [],
   "source": [
    "df_mice_day3 = fspliter.retrieve_day(df_mice, 3)\n",
    "df_mice_day4 = fspliter.retrieve_day(df_mice, 4)"
   ]
  },
  {
   "cell_type": "code",
   "execution_count": null,
   "metadata": {
    "collapsed": false
   },
   "outputs": [],
   "source": [
    "# plt.figure(figsize=(10, 6))\n",
    "# sns.countplot(data=df_mice_day3, x='state', order=df_mice_day3['state'].value_counts().index)\n",
    "# plt.title('Distribution of Sleep-Wake States')\n",
    "# plt.xlabel('State')\n",
    "# plt.ylabel('Count')\n",
    "# plt.show()\n",
    "\n",
    "\n",
    "fig = px.histogram(df_mice_day3, x='state', text_auto=True, color=\"state\", color_discrete_map=state_colors).update_xaxes(categoryorder=\"array\", categoryarray=stats)\n",
    "fig.update_traces(textfont_size= 42, textposition='inside', textfont_color='#F0E2C8', insidetextanchor='middle')\n",
    "fig.show()\n"
   ]
  },
  {
   "cell_type": "markdown",
   "metadata": {
    "collapsed": false
   },
   "source": [
    "On remarque effectivement que le jour 3, la souris a passé une majorité de temps éveillée."
   ]
  },
  {
   "cell_type": "code",
   "execution_count": null,
   "metadata": {
    "collapsed": false
   },
   "outputs": [],
   "source": [
    "# plt.figure(figsize=(10, 6))\n",
    "# sns.countplot(data=df_mice_day4, x='state', order=df_mice_day4['state'].value_counts().index)\n",
    "# plt.title('Distribution of Sleep-Wake States')\n",
    "# plt.xlabel('State')\n",
    "# plt.ylabel('Count')\n",
    "# plt.show()\n",
    "\n",
    "\n",
    "fig = px.histogram(df_mice_day4, x='state', text_auto=True, color=\"state\", color_discrete_map=state_colors).update_xaxes(categoryorder=\"array\", categoryarray=stats)\n",
    "fig.update_traces(textfont_size= 42, textposition='inside', textfont_color='#F0E2C8', insidetextanchor='middle')\n",
    "fig.show()"
   ]
  },
  {
   "cell_type": "markdown",
   "metadata": {
    "collapsed": false
   },
   "source": [
    "Ci-dessus, on remarque que le cycle de sommeil de la souris est revenu à la normal le jour 4 malgré le fait qu'elle ait été forcée de rester éveillée le jour 3."
   ]
  },
  {
   "cell_type": "code",
   "execution_count": null,
   "metadata": {
    "collapsed": false
   },
   "outputs": [],
   "source": [
    "# plt.figure(figsize=(10, 6))\n",
    "# sns.countplot(data=df_bread, x='state', order=df_bread['state'].value_counts().index)\n",
    "# plt.title('Distribution of Sleep-Wake States')\n",
    "# plt.xlabel('State')\n",
    "# plt.ylabel('Count')\n",
    "# plt.show()\n",
    "\n",
    "fig = px.histogram(df_bread, x='state', text_auto=True, color=\"state\", color_discrete_map=state_colors).update_xaxes(categoryorder=\"array\", categoryarray=stats)\n",
    "fig.update_traces(textfont_size= 42, textposition='inside', textfont_color='#F0E2C8', insidetextanchor='middle')\n",
    "fig.show()"
   ]
  },
  {
   "cell_type": "markdown",
   "metadata": {
    "collapsed": false
   },
   "source": [
    "Pour toute la souche, on remarque que les souris passent légèrement plus de temps endormies qu'éveillées."
   ]
  },
  {
   "cell_type": "markdown",
   "source": [
    "## Distribution of EEGv and EMGv features"
   ],
   "metadata": {
    "collapsed": false
   }
  },
  {
   "cell_type": "code",
   "execution_count": null,
   "metadata": {
    "collapsed": false
   },
   "outputs": [],
   "source": [
    "# plt.figure(figsize=(10, 6))\n",
    "# plt.boxplot(df_mice['EEGv'])\n",
    "# plt.show()\n",
    "\n",
    "\n",
    "fig = px.box(df_mice, x=\"EEGv\", points = 'all')\n",
    "fig.update_traces(marker_color='#113048', marker_line_color='#113048', marker_line_width=2, opacity=0.6)\n",
    "fig.update_xaxes(range=[0, 0.00000004])\n",
    "fig.show()\n"
   ]
  },
  {
   "cell_type": "markdown",
   "metadata": {
    "collapsed": false
   },
   "source": [
    "On remarque quelques valeurs aberrantes dans les données EEGv."
   ]
  },
  {
   "cell_type": "code",
   "execution_count": null,
   "metadata": {
    "collapsed": false
   },
   "outputs": [],
   "source": [
    "# plt.figure(figsize=(10, 6))\n",
    "# plt.boxplot(df_mice['EMGv'])\n",
    "# plt.show()\n",
    "\n",
    "fig = px.box(df_mice, x=\"EMGv\", points = 'all')\n",
    "fig.update_traces(marker_color='#113048', marker_line_color='#113048', marker_line_width=2, opacity=0.6)\n",
    "fig.update_xaxes(range=[0, 0.00000008])\n",
    "fig.show()"
   ]
  },
  {
   "cell_type": "markdown",
   "metadata": {
    "collapsed": false
   },
   "source": [
    "On remarque quelques valeurs aberrantes dans les données EMGv."
   ]
  },
  {
   "cell_type": "code",
   "execution_count": null,
   "outputs": [],
   "source": [
    "plt.figure(figsize=(14, 4))\n",
    "sns.boxplot(x='state', y='EEGv', data=df_mice, showfliers=False)\n",
    "plt.title('Boxplot of EEGv per State (without outliers)')\n",
    "plt.show()"
   ],
   "metadata": {
    "collapsed": false
   }
  },
  {
   "cell_type": "markdown",
   "source": [
    "On remarque que la variance de l'activité électrique du cerveau est plus grande lorsque la souris dans l'état non-rem. L'activité est presque similaire quand la souris est éveillé ou dans l'état REM."
   ],
   "metadata": {
    "collapsed": false
   }
  },
  {
   "cell_type": "code",
   "execution_count": null,
   "outputs": [],
   "source": [
    "plt.figure(figsize=(14, 5))\n",
    "sns.boxplot(x='state', y='EMGv', data=df_mice, showfliers=False)\n",
    "plt.title('Boxplot of EMGv per State (without outliers)')\n",
    "plt.show()"
   ],
   "metadata": {
    "collapsed": false
   }
  },
  {
   "cell_type": "markdown",
   "source": [
    "On remarque que l'activité électrique des muscles est plus grande lorsque la souris est réveillée."
   ],
   "metadata": {
    "collapsed": false
   }
  },
  {
   "cell_type": "markdown",
   "source": [
    "## Transitions between states"
   ],
   "metadata": {
    "collapsed": false
   }
  },
  {
   "cell_type": "code",
   "execution_count": null,
   "metadata": {
    "collapsed": false
   },
   "outputs": [],
   "source": [
    "def calculate_transition_between_states(df):\n",
    "\n",
    "    states = sorted(list(set(df)))\n",
    "    transition_mat = pd.DataFrame(0, index=states, columns=states, dtype=float)\n",
    "\n",
    "    for (from_state, to_state) in zip(df[:-1], df[1:]):\n",
    "        transition_mat.loc[from_state, to_state] += 1\n",
    "\n",
    "    transition_mat = transition_mat.div(transition_mat.sum(axis=1), axis=0)\n",
    "    return transition_mat\n",
    "\n",
    "from matplotlib.colors import LinearSegmentedColormap\n",
    "\n",
    "transitions = calculate_transition_between_states(df_bread['state'])\n",
    "colors = ['#ffffff', '#113048']\n",
    "cm = LinearSegmentedColormap.from_list(\n",
    "  \"Custom\", colors, N=20)\n",
    "plt.figure(figsize=(10, 8))\n",
    "sns.heatmap(transitions, annot=True, fmt=\".2f\", cmap=cm)\n",
    "# plt.title('State Transition Heatmap')\n",
    "plt.xlabel('To State')\n",
    "plt.ylabel('From State')\n",
    "plt.show()\n"
   ]
  },
  {
   "cell_type": "markdown",
   "metadata": {
    "collapsed": false
   },
   "source": [
    "Premièrement, on peut voir sur ce graphique que quand la souris se trouve dans un état, elle a tendance à rester dans cet état. Par exemple, si la souris est dans l'état wake, elle a 0.94 de chance de rester dans cet état ce qui semble tout à fait logique. Ce qui est intéressant, c'est de voir que la souris aura comme le cycle de sommeil naturel l'indique, tendance a passé de l'état wake à l'état non-REM plutôt que l'état REM."
   ]
  },
  {
   "cell_type": "markdown",
   "source": [
    "## Correlation between features"
   ],
   "metadata": {
    "collapsed": false
   }
  },
  {
   "cell_type": "code",
   "execution_count": null,
   "metadata": {
    "collapsed": false
   },
   "outputs": [],
   "source": [
    "correlation_matrix = df_mice.iloc[:, 4:-1].corr()\n",
    "\n",
    "plt.figure(figsize=(14, 12))\n",
    "sns.heatmap(correlation_matrix, annot=False, cmap='coolwarm', center=0)\n",
    "plt.title('Correlation Heatmap of the Features')\n",
    "plt.show()\n"
   ]
  },
  {
   "cell_type": "markdown",
   "source": [
    "## Dimensionality reduction and visualization"
   ],
   "metadata": {
    "collapsed": false
   }
  },
  {
   "cell_type": "code",
   "execution_count": null,
   "outputs": [],
   "source": [
    "df_mice = preprocessing.remove_outliers(df_mice)"
   ],
   "metadata": {
    "collapsed": false
   }
  },
  {
   "cell_type": "code",
   "execution_count": null,
   "outputs": [],
   "source": [
    "sample_data = df_mice.sample(n=1000, random_state=42)\n",
    "features = ['EEGv', 'EMGv'] + [f'bin{i}' for i in range(0, 401, 1)]\n",
    "features_without_v = [f'bin{i}' for i in range(0, 401, 1)]\n",
    "\n",
    "scaler = StandardScaler()\n",
    "data_normalized = scaler.fit_transform(sample_data[features])"
   ],
   "metadata": {
    "collapsed": false
   }
  },
  {
   "cell_type": "code",
   "execution_count": null,
   "outputs": [],
   "source": [
    "umap = UMAP(n_neighbors=15, metric='cosine' ,min_dist=0.4, n_components=2)\n",
    "data_umap = umap.fit_transform(data_normalized)\n",
    "fig = px.scatter(data_umap, x=data_umap[:, 0], y=data_umap[:, 1], color=sample_data['state'], title='UMAP projection')\n",
    "fig.show()"
   ],
   "metadata": {
    "collapsed": false
   }
  },
  {
   "cell_type": "markdown",
   "source": [
    "On remarque que les états wake et non-REM peuvent être assez bien séparés avec UMAP. Cependant, l'état REM semble être plus difficile à séparer des autres états."
   ],
   "metadata": {
    "collapsed": false
   }
  },
  {
   "cell_type": "code",
   "execution_count": null,
   "outputs": [],
   "source": [
    "pca = PCA(n_components=50, random_state=42)\n",
    "data_pca = pca.fit_transform(data_normalized)\n",
    "\n",
    "tsne = TSNE(n_components=2, perplexity=50, n_iter=1500, random_state=42)\n",
    "data_tsne = tsne.fit_transform(data_pca)\n",
    "\n",
    "fig = px.scatter(data_tsne, x=data_tsne[:, 0], y=data_tsne[:, 1], color=sample_data['state'], title='T-sne projection with normalized data')\n",
    "fig.show()"
   ],
   "metadata": {
    "collapsed": false
   }
  },
  {
   "cell_type": "markdown",
   "source": [
    "On remarque que les états wake et non-REM peuvent être assez bien séparés avec T-sne et en normalisant les données. Cependant, l'état REM semble être plus difficile à séparer des autres états."
   ],
   "metadata": {
    "collapsed": false
   }
  },
  {
   "cell_type": "code",
   "execution_count": null,
   "outputs": [],
   "source": [
    "data_pca = pca.fit_transform(sample_data[features])\n",
    "\n",
    "tsne = TSNE(n_components=2, perplexity=50, n_iter=1500)\n",
    "data_tsne = tsne.fit_transform(data_pca)\n",
    "\n",
    "fig = px.scatter(data_tsne, x=data_tsne[:, 0], y=data_tsne[:, 1], color=sample_data['state'], title='T-sne projection with non-normalized data')\n",
    "fig.show()"
   ],
   "metadata": {
    "collapsed": false
   }
  },
  {
   "cell_type": "markdown",
   "source": [
    "En normalisant pas les données, on remarque que l'état REM est un peu plus prédictible que les autres méthodes vues précédemment mais cela reste difficile de séparer l'état REM des autres états."
   ],
   "metadata": {
    "collapsed": false
   }
  },
  {
   "cell_type": "code",
   "execution_count": null,
   "outputs": [],
   "source": [
    "columns = ['EMGv', 'EEGv'] + [f'bin{i}' for i in range(401)]\n",
    "data_pca = df_day4[columns]\n",
    "\n",
    "scaler = StandardScaler()\n",
    "data_scaled = scaler.fit_transform(data_pca)\n",
    "\n",
    "max_components = min(len(columns), len(df_mice))\n",
    "explained_variances = []\n",
    "for n_components in range(1, max_components + 1, 5):\n",
    "    pca = PCA(n_components=n_components)\n",
    "    pca.fit(data_scaled)\n",
    "    explained_variance = np.sum(pca.explained_variance_ratio_)\n",
    "    explained_variances.append(explained_variance)\n",
    "\n",
    "# Plotting the explained variance\n",
    "plt.figure(figsize=(12, 6))\n",
    "plt.plot(range(1, max_components + 1, 5), explained_variances, marker='o')\n",
    "plt.title('Variance Expliquée par le Nombre de Composantes PCA')\n",
    "plt.xlabel('Nombre de Composantes PCA')\n",
    "plt.ylabel('Variance Expliquée (pourcentage)')\n",
    "plt.grid(True)\n",
    "plt.show()\n"
   ],
   "metadata": {
    "collapsed": false
   }
  },
  {
   "cell_type": "code",
   "execution_count": null,
   "outputs": [],
   "source": [],
   "metadata": {
    "collapsed": false
   }
  }
 ],
 "metadata": {
  "kernelspec": {
   "display_name": "Python 3",
   "language": "python",
   "name": "python3"
  },
  "language_info": {
   "codemirror_mode": {
    "name": "ipython",
    "version": 3
   },
   "file_extension": ".py",
   "mimetype": "text/x-python",
   "name": "python",
   "nbconvert_exporter": "python",
   "pygments_lexer": "ipython3",
   "version": "3.11.2"
  },
  "orig_nbformat": 4
 },
 "nbformat": 4,
 "nbformat_minor": 2
}
