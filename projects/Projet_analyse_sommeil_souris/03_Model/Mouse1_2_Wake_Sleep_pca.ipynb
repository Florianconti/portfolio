{
 "cells": [
  {
   "attachments": {},
   "cell_type": "markdown",
   "metadata": {},
   "source": [
    "# Importation des librairies"
   ]
  },
  {
   "cell_type": "code",
   "execution_count": 1,
   "metadata": {},
   "outputs": [],
   "source": [
    "import pandas as pd\n",
    "import sklearn\n",
    "from sklearn.model_selection import train_test_split\n",
    "from sklearn import svm\n",
    "from sklearn.decomposition import PCA\n",
    "\n",
    "import importlib\n",
    "spec = importlib.util.spec_from_file_location(\"preprocessing\", \"..\\\\utils\\\\preprocessing.py\")\n",
    "preprocessing = importlib.util.module_from_spec(spec)\n",
    "spec.loader.exec_module(preprocessing)\n",
    "\n",
    "spec = importlib.util.spec_from_file_location(\"fspliter\", \"..\\\\utils\\\\files_spliter.py\")\n",
    "fspliter = importlib.util.module_from_spec(spec)\n",
    "spec.loader.exec_module(fspliter)\n",
    "\n",
    "spec = importlib.util.spec_from_file_location(\"results\", \"..\\\\utils\\\\results.py\")\n",
    "results = importlib.util.module_from_spec(spec)\n",
    "spec.loader.exec_module(results)"
   ]
  },
  {
   "attachments": {},
   "cell_type": "markdown",
   "metadata": {},
   "source": [
    "# Lecture des données et preprocessing"
   ]
  },
  {
   "cell_type": "code",
   "execution_count": 2,
   "metadata": {},
   "outputs": [],
   "source": [
    "mouse1 = fspliter.get_mice(0)\n",
    "mouse1 = fspliter.retrieve_day(mouse1, 3)\n",
    "mouse1 = preprocessing.do_preprocessing(mouse1, 'WS')\n",
    "\n",
    "mouse2 = fspliter.get_mice(1)\n",
    "mouse2 = fspliter.retrieve_day(mouse2, 3)\n",
    "mouse2 = preprocessing.do_preprocessing(mouse2, 'WS')"
   ]
  },
  {
   "attachments": {},
   "cell_type": "markdown",
   "metadata": {},
   "source": [
    "# Séparation en sets d'entrainement et de test"
   ]
  },
  {
   "cell_type": "code",
   "execution_count": 3,
   "metadata": {},
   "outputs": [
    {
     "name": "stdout",
     "output_type": "stream",
     "text": [
      "(21048, 50)\n"
     ]
    }
   ],
   "source": [
    "pca = PCA(n_components=50)\n",
    "train = mouse1\n",
    "test = mouse2\n",
    "\n",
    "#remove filename columns\n",
    "train = train.drop(['filename'], axis=1)\n",
    "test = test.drop(['filename'], axis=1)\n",
    "\n",
    "#state column as label and the others as features\n",
    "train_features = train.drop(['state'], axis=1)\n",
    "train_labels = train['state']\n",
    "pca.fit(train_features)\n",
    "train_features = pca.transform(train_features)\n",
    "\n",
    "test_features = test.drop(['state'], axis=1)\n",
    "test_labels = test['state']\n",
    "test_features = pca.transform(test_features)\n",
    "print(train_features.shape)\n"
   ]
  },
  {
   "attachments": {},
   "cell_type": "markdown",
   "metadata": {},
   "source": [
    "# Model"
   ]
  },
  {
   "cell_type": "code",
   "execution_count": 4,
   "metadata": {},
   "outputs": [],
   "source": [
    "clf = svm.SVC()\n",
    "clf.fit(train_features, train_labels)\n",
    "predict = clf.predict(test_features)"
   ]
  },
  {
   "attachments": {},
   "cell_type": "markdown",
   "metadata": {},
   "source": [
    "# Résultats"
   ]
  },
  {
   "cell_type": "code",
   "execution_count": 5,
   "metadata": {},
   "outputs": [
    {
     "name": "stdout",
     "output_type": "stream",
     "text": [
      "Rapport de classification : \n",
      "              precision    recall  f1-score   support\n",
      "\n",
      "           s       0.90      0.84      0.87      9302\n",
      "           w       0.88      0.93      0.90     12022\n",
      "\n",
      "    accuracy                           0.89     21324\n",
      "   macro avg       0.89      0.88      0.89     21324\n",
      "weighted avg       0.89      0.89      0.89     21324\n",
      "\n",
      "Coefficient de cohen's kappa : 0.7724264679250269\n",
      "Matrice de confusion :\n"
     ]
    },
    {
     "data": {
      "image/png": "[encoded data removed]",
      "text/plain": [
       "<Figure size 640x480 with 2 Axes>"
      ]
     },
     "metadata": {},
     "output_type": "display_data"
    }
   ],
   "source": [
    "results.scores(test_labels, predict, mouse2.state.unique())"
   ]
  }
 ],
 "metadata": {
  "kernelspec": {
   "display_name": "Python 3",
   "language": "python",
   "name": "python3"
  },
  "language_info": {
   "codemirror_mode": {
    "name": "ipython",
    "version": 3
   },
   "file_extension": ".py",
   "mimetype": "text/x-python",
   "name": "python",
   "nbconvert_exporter": "python",
   "pygments_lexer": "ipython3",
   "version": "3.10.7"
  }
 },
 "nbformat": 4,
 "nbformat_minor": 2
}
