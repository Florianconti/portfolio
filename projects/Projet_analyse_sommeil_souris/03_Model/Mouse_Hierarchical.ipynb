{
 "cells": [
  {
   "attachments": {},
   "cell_type": "markdown",
   "metadata": {},
   "source": [
    "# Importation des librairies"
   ]
  },
  {
   "cell_type": "code",
   "execution_count": null,
   "metadata": {},
   "outputs": [],
   "source": [
    "import pandas as pd\n",
    "import sklearn\n",
    "from sklearn.model_selection import train_test_split\n",
    "from sklearn import svm\n",
    "\n",
    "import importlib\n",
    "spec = importlib.util.spec_from_file_location(\"preprocessing\", \"..\\\\utils\\\\preprocessing.py\")\n",
    "preprocessing = importlib.util.module_from_spec(spec)\n",
    "spec.loader.exec_module(preprocessing)\n",
    "\n",
    "spec = importlib.util.spec_from_file_location(\"fspliter\", \"..\\\\utils\\\\files_spliter.py\")\n",
    "fspliter = importlib.util.module_from_spec(spec)\n",
    "spec.loader.exec_module(fspliter)\n",
    "\n",
    "spec = importlib.util.spec_from_file_location(\"results\", \"..\\\\utils\\\\results.py\")\n",
    "results = importlib.util.module_from_spec(spec)\n",
    "spec.loader.exec_module(results)"
   ]
  },
  {
   "attachments": {},
   "cell_type": "markdown",
   "metadata": {},
   "source": [
    "# Lecture des données et preprocessing"
   ]
  },
  {
   "cell_type": "code",
   "execution_count": null,
   "metadata": {},
   "outputs": [],
   "source": [
    "data = fspliter.get_mice(0)\n",
    "data = fspliter.retrieve_day(data, 3)\n",
    "data = preprocessing.clean_missing_values(data)\n",
    "data = preprocessing.remove_outliers(data)"
   ]
  },
  {
   "attachments": {},
   "cell_type": "markdown",
   "metadata": {},
   "source": [
    "# Séparation en sets d'entrainement et de test"
   ]
  },
  {
   "cell_type": "code",
   "execution_count": null,
   "metadata": {},
   "outputs": [],
   "source": [
    "train, test = train_test_split(data, test_size=0.2, random_state=42)\n",
    "\n",
    "#remove filename columns\n",
    "train = train.drop(['filename'], axis=1)\n",
    "test = test.drop(['filename'], axis=1)\n",
    "\n",
    "#separate data between sleep/wake and rem/nrem\n",
    "train_wake_sleep = preprocessing.wake_sleep_data(train)\n",
    "test_wake_sleep = preprocessing.wake_sleep_data(test)\n",
    "\n",
    "train_rem_nrem = preprocessing.rem_nrem_data(train)\n",
    "test_rem_nrem = preprocessing.rem_nrem_data(test)"
   ]
  },
  {
   "cell_type": "code",
   "execution_count": null,
   "metadata": {},
   "outputs": [],
   "source": [
    "#state column as label and the others as features (wake/sleep)\n",
    "train_wake_sleep_features = train_wake_sleep.drop(['state'], axis=1)\n",
    "train_wake_sleep_labels = train_wake_sleep['state']\n",
    "\n",
    "test_wake_sleep_features = test_wake_sleep.drop(['state'], axis=1)\n",
    "test_wake_sleep_labels = test_wake_sleep['state']\n",
    "\n",
    "#state column as label and the others as features (rem/nrem)\n",
    "train_rem_nrem_features = train_rem_nrem.drop(['state'], axis=1)\n",
    "train_rem_nrem_labels = train_rem_nrem['state']\n",
    "\n",
    "test_rem_nrem_features = test_rem_nrem.drop(['state'], axis=1)\n",
    "test_rem_nrem_labels = test_rem_nrem['state']"
   ]
  },
  {
   "attachments": {},
   "cell_type": "markdown",
   "metadata": {},
   "source": [
    "# Models"
   ]
  },
  {
   "cell_type": "code",
   "execution_count": null,
   "metadata": {},
   "outputs": [],
   "source": [
    "clf_wake_sleep = svm.SVC()\n",
    "clf_rem_nrem = svm.SVC()\n",
    "\n",
    "clf_wake_sleep.fit(train_wake_sleep_features, train_wake_sleep_labels.values)\n",
    "clf_rem_nrem.fit(train_rem_nrem_features, train_rem_nrem_labels.values)\n",
    "\n",
    "predictions_wake_sleep = clf_wake_sleep.predict(test_wake_sleep_features)\n",
    "predictions_rem_nrem = clf_rem_nrem.predict(test_rem_nrem_features)"
   ]
  },
  {
   "attachments": {},
   "cell_type": "markdown",
   "metadata": {},
   "source": [
    "# Résultats"
   ]
  },
  {
   "cell_type": "code",
   "execution_count": null,
   "metadata": {},
   "outputs": [],
   "source": [
    "results.scores(test_wake_sleep_labels, predictions_wake_sleep, test_wake_sleep.state.unique())"
   ]
  },
  {
   "cell_type": "code",
   "execution_count": null,
   "metadata": {},
   "outputs": [],
   "source": [
    "results.scores(test_rem_nrem_labels, predictions_rem_nrem, test_rem_nrem.state.unique())"
   ]
  },
  {
   "cell_type": "markdown",
   "metadata": {},
   "source": [
    "# Prédiction avec hiérarchie"
   ]
  },
  {
   "cell_type": "code",
   "execution_count": null,
   "metadata": {},
   "outputs": [],
   "source": [
    "predict_first = clf_wake_sleep.predict(test_wake_sleep_features)\n",
    "for i in range(len(predict_first)):\n",
    "    if predict_first[i] == 's':\n",
    "        predict_first[i] = clf_rem_nrem.predict(pd.DataFrame([test_wake_sleep_features.iloc[i]], columns=test_wake_sleep_features.columns))[0]\n",
    "\n",
    "print(\"Number of w in predict_first: \", len([x for x in predict_first if x == 'w']))\n",
    "print(\"Number of s in predict_first: \", len([x for x in predict_first if x == 's']))\n",
    "print(\"Number of r in predict_first: \", len([x for x in predict_first if x == 'r']))\n",
    "print(\"Number of n in predict_first: \", len([x for x in predict_first if x == 'n']))\n",
    "results.scores(test['state'], predict_first, ['n', 'r', 'w'])"
   ]
  },
  {
   "cell_type": "markdown",
   "metadata": {},
   "source": [
    "# Explication\n",
    "\n",
    "- On constate que la classification de façon hiérarchique n'est pas très efficace.\n",
    "- Cela est explicable car comme les états `wake` et `rem` sont assez similaire lors de la première séparation en `wake` et `sleep` notre modèle a déjà classifié la moitié des `rem` comme étant des `wake`. \n",
    "- En conséquence, lors de la seconde classification en `rem` et `nrem`, il ne peut déjà plus trouvé que la moitié des `rem` et on constate qu'il en trouve quand même un peu plus de 2/3 parmis ceux restant."
   ]
  }
 ],
 "metadata": {
  "kernelspec": {
   "display_name": "Python 3",
   "language": "python",
   "name": "python3"
  },
  "language_info": {
   "codemirror_mode": {
    "name": "ipython",
    "version": 3
   },
   "file_extension": ".py",
   "mimetype": "text/x-python",
   "name": "python",
   "nbconvert_exporter": "python",
   "pygments_lexer": "ipython3",
   "version": "3.10.7"
  }
 },
 "nbformat": 4,
 "nbformat_minor": 2
}
